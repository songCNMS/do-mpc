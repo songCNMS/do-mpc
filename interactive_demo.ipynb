{
 "cells": [
  {
   "cell_type": "markdown",
   "metadata": {},
   "source": [
    "An example yaml config\n",
    "\n",
    "```yaml\n",
    "model:\n",
    "  model_name: batch_reactor_test\n",
    "  model_type: continuous\n",
    "  constants:\n",
    "    mu_m: 0.02\n",
    "    K_m: 0.05\n",
    "    K_i: 5.0\n",
    "    v_par: 0.004\n",
    "    Y_p: 1.2\n",
    "\n",
    "  state_variables:\n",
    "    X_s:\n",
    "      init_val: 1.0\n",
    "      init_val_lower: 0.9\n",
    "      init_val_upper: 1.1\n",
    "      rhs: mu_S*X_s - inp/V_s*X_s\n",
    "      shape: (1,) # default value, can be omitted\n",
    "      scaling: 1 # default value, can be omitted\n",
    "    S_s:\n",
    "      init_val: 0.5\n",
    "      init_val_lower: 0.4\n",
    "      init_val_upper: 0.6\n",
    "      rhs: mu_S*X_s/Y_x - v_par*X_s/Y_p + inp/V_s*(S_in-S_s)\n",
    "    P_s:\n",
    "      init_val: 0.0\n",
    "      init_val_lower: 0.0\n",
    "      init_val_upper: 0.2\n",
    "      rhs: v_par*X_s - inp/V_s*P_s\n",
    "    V_s:\n",
    "      init_val: 120.0\n",
    "      init_val_lower: 110.0\n",
    "      init_val_upper: 130.0\n",
    "      rhs: inp\n",
    "\n",
    "  control_variables:\n",
    "    inp:\n",
    "      shape: (1,) # default value, can be omitted\n",
    "\n",
    "  user_defined_parameters:\n",
    "    - Y_x\n",
    "    - S_in\n",
    "  aux_variables:\n",
    "    mu_S:\n",
    "      expr: mu_m*S_s/(K_m+S_s+(S_s**2/K_i))\n",
    "```\n",
    "---- "
   ]
  },
  {
   "cell_type": "markdown",
   "metadata": {
    "tags": []
   },
   "source": [
    "# Optional: Loading config from a file"
   ]
  },
  {
   "cell_type": "code",
   "execution_count": 1,
   "metadata": {},
   "outputs": [
    {
     "data": {
      "text/plain": [
       "{'model': {'model_name': 'cstr_test',\n",
       "  'model_type': 'continuous',\n",
       "  'constants': {'K0_ab': 1287000000000.0,\n",
       "   'K0_bc': 1287000000000.0,\n",
       "   'K0_ad': 9043000000.0,\n",
       "   'R_gas': 0.0083144621,\n",
       "   'E_A_ab': 9758.3,\n",
       "   'E_A_bc': 9758.3,\n",
       "   'E_A_ad': 8560.0,\n",
       "   'H_R_ab': 4.2,\n",
       "   'H_R_bc': -11.0,\n",
       "   'H_R_ad': -41.85,\n",
       "   'Rou': 0.9342,\n",
       "   'Cp': 3.01,\n",
       "   'Cp_k': 2.0,\n",
       "   'A_R': 0.215,\n",
       "   'V_R': 10.01,\n",
       "   'm_k': 5.0,\n",
       "   'T_in': 130.0,\n",
       "   'K_w': 4032.0,\n",
       "   'C_A0': 5.1},\n",
       "  'state_variables': {'C_a': {'init_val': [0.8],\n",
       "    'init_val_lower': [0.1],\n",
       "    'init_val_upper': [2.0],\n",
       "    'rhs': 'F*(C_A0 - C_a) -K_1*C_a - K_3*(C_a**2)',\n",
       "    'shape': '(1,1)',\n",
       "    'scaling': 1},\n",
       "   'C_b': {'init_val': [0.5],\n",
       "    'init_val_lower': [0.1],\n",
       "    'init_val_upper': [2.0],\n",
       "    'shape': '(1,1)',\n",
       "    'rhs': '-F*C_b + K_1*C_a - K_2*C_b'},\n",
       "   'T_R': {'init_val': [134.14],\n",
       "    'init_val_lower': [50.0],\n",
       "    'init_val_upper': [150.0],\n",
       "    'shape': '(1,1)',\n",
       "    'rhs': '((K_1*C_a*H_R_ab + K_2*C_b*H_R_bc + K_3*(C_a**2)*H_R_ad)/(-Rou*Cp)) + F*(T_in-T_R) +(((K_w*A_R)*(-T_dif))/(Rou*Cp*V_R))'},\n",
       "   'T_K': {'init_val': [130.0],\n",
       "    'init_val_lower': [50.0],\n",
       "    'init_val_upper': [140.0],\n",
       "    'shape': '(1,1)',\n",
       "    'rhs': '(Q_dot + K_w*A_R*(T_dif))/(m_k*Cp_k)'}},\n",
       "  'control_variables': {'F': {'shape': '(1,)'}, 'Q_dot': {'shape': '(1,)'}},\n",
       "  'user_defined_parameters': ['alpha', 'beta'],\n",
       "  'aux_variables': {'T_dif': {'expr': 'T_R-T_K', 'is_explicit': True},\n",
       "   'K_1': {'expr': 'beta * K0_ab * exp((-E_A_ab)/((T_R+273.15)))',\n",
       "    'is_explicit': False},\n",
       "   'K_2': {'expr': 'K0_bc * exp((-E_A_bc)/((T_R+273.15)))'},\n",
       "   'K_3': {'expr': 'K0_ad * exp((-alpha*E_A_ad)/((T_R+273.15)))'}}},\n",
       " 'simulator': {'parameters': {'integration_tool': 'cvodes',\n",
       "   'abstol': 1e-10,\n",
       "   'reltol': 1e-10,\n",
       "   't_step': 0.005}},\n",
       " 'reward': {'step_reward': {'C_b': {'expr': '(C_b-0.6)**2', 'coef': -1.0}},\n",
       "  'terminal_reward': {'C_b': {'expr': '(C_b-0.6)**2', 'coef': -1.0}},\n",
       "  'input_reward': {'F': 0.1, 'Q_dot': 0.001}},\n",
       " 'mpc': {'setup': {'n_horizon': 50,\n",
       "   'n_robust': 1,\n",
       "   'open_loop': 0,\n",
       "   't_step': 0.005,\n",
       "   'state_discretization': 'collocation',\n",
       "   'collocation_type': 'radau',\n",
       "   'collocation_deg': 2,\n",
       "   'collocation_ni': 1,\n",
       "   'store_full_solution': True},\n",
       "  'scaling': {'T_R': 100, 'T_K': 100, 'Q_dot': 2000, 'F': 100},\n",
       "  'bounds': {'C_a': {'lower': 0.1, 'upper': 2.0, 'soft': False},\n",
       "   'C_b': {'lower': 0.1, 'upper': 2.0},\n",
       "   'T_R': {'lower': 50.0, 'upper': 140.0, 'soft': True, 'coef': 100.0},\n",
       "   'T_K': {'lower': 50.0, 'upper': 140.0},\n",
       "   'F': {'lower': 5.0, 'upper': 100.0},\n",
       "   'Q_dot': {'lower': -8500.0, 'upper': 0.0}},\n",
       "  'uncertainities': {'alpha': [1.0, 1.05, 0.95], 'beta': [1.0, 1.1, 0.9]}},\n",
       " 'estimator': {'type': 'StateFeedback', 'parameters': None}}"
      ]
     },
     "execution_count": 1,
     "metadata": {},
     "output_type": "execute_result"
    }
   ],
   "source": [
    "import yaml\n",
    "wd = None\n",
    "with open(\"model_configs/model_config_cstr.yaml\") as f:\n",
    "    wd = yaml.load(f, Loader=yaml.FullLoader)\n",
    "wd\n"
   ]
  },
  {
   "cell_type": "markdown",
   "metadata": {
    "tags": []
   },
   "source": [
    "# Define your model\n",
    "- Step 1: Set meta-data for the model including name, type, number of variables of each type\n",
    "- Step 2: Define in details each variable\n"
   ]
  },
  {
   "cell_type": "code",
   "execution_count": 2,
   "metadata": {},
   "outputs": [
    {
     "data": {
      "application/vnd.jupyter.widget-view+json": {
       "model_id": "7b2ff6356fe6449cb99936f265fb3ae3",
       "version_major": 2,
       "version_minor": 0
      },
      "text/plain": [
       "GridspecLayout(children=(Button(description='Model Specification', layout=Layout(grid_area='widget001', width=…"
      ]
     },
     "metadata": {},
     "output_type": "display_data"
    }
   ],
   "source": [
    "from vis_utility import *\n",
    "var_grid, widget_dict = var_num_grid_generator(default_wd = wd)\n",
    "display(var_grid)\n"
   ]
  },
  {
   "cell_type": "markdown",
   "metadata": {},
   "source": [
    "## Define constants if any including name and value"
   ]
  },
  {
   "cell_type": "code",
   "execution_count": 3,
   "metadata": {},
   "outputs": [
    {
     "data": {
      "application/vnd.jupyter.widget-view+json": {
       "model_id": "04815f87396241e39f53f8593afe00b2",
       "version_major": 2,
       "version_minor": 0
      },
      "text/plain": [
       "GridspecLayout(children=(Button(description='Constants Definition', layout=Layout(grid_area='widget001', width…"
      ]
     },
     "metadata": {},
     "output_type": "display_data"
    }
   ],
   "source": [
    "# define details of each variable/constant/parameter\n",
    "num_constants = widget_dict[\"num_constants\"].value\n",
    "constant_grid, _widget_dict = constants_grid_generator(num_constants, default_wd = wd)\n",
    "if num_constants > 0:\n",
    "    display(constant_grid)\n",
    "    widget_dict.update(_widget_dict)"
   ]
  },
  {
   "cell_type": "markdown",
   "metadata": {},
   "source": [
    "## Define each state variable if any including name, initial value, lower and upper bounds, RHS (right-hand-side equation), shape, scaling (used in MPC), whether the bound is soft or not"
   ]
  },
  {
   "cell_type": "code",
   "execution_count": 4,
   "metadata": {},
   "outputs": [
    {
     "data": {
      "application/vnd.jupyter.widget-view+json": {
       "model_id": "4c3945a4d84346e79f74cc9ab685136e",
       "version_major": 2,
       "version_minor": 0
      },
      "text/plain": [
       "GridspecLayout(children=(Button(description='State Variables Definition', layout=Layout(grid_area='widget001',…"
      ]
     },
     "metadata": {},
     "output_type": "display_data"
    }
   ],
   "source": [
    "num_state_variables = widget_dict[\"num_state_variables\"].value\n",
    "sv_grid, _widget_dict = state_variables_grid_generator(num_state_variables, default_wd=wd)\n",
    "if num_state_variables > 0:\n",
    "    display(sv_grid)\n",
    "    widget_dict.update(_widget_dict)\n",
    "    \n",
    "    "
   ]
  },
  {
   "cell_type": "markdown",
   "metadata": {},
   "source": [
    "## Define each control variable if any including name and shape"
   ]
  },
  {
   "cell_type": "code",
   "execution_count": 5,
   "metadata": {},
   "outputs": [
    {
     "data": {
      "application/vnd.jupyter.widget-view+json": {
       "model_id": "1532ac7f42d54d39b7b5dc81bd626b7a",
       "version_major": 2,
       "version_minor": 0
      },
      "text/plain": [
       "GridspecLayout(children=(Button(description='Control Variables Definition', layout=Layout(grid_area='widget001…"
      ]
     },
     "metadata": {},
     "output_type": "display_data"
    }
   ],
   "source": [
    "\n",
    "num_control_variables = widget_dict[\"num_control_variables\"].value\n",
    "if num_control_variables > 0:\n",
    "    control_grid, _widget_dict = control_variables_grid_generator(num_control_variables, default_wd=wd)\n",
    "    display(control_grid)\n",
    "    widget_dict.update(_widget_dict)\n",
    "\n"
   ]
  },
  {
   "cell_type": "markdown",
   "metadata": {},
   "source": [
    "# Define user defined parameters if any; value of each parameter is a list from which we can sample one to initialize"
   ]
  },
  {
   "cell_type": "code",
   "execution_count": 6,
   "metadata": {},
   "outputs": [
    {
     "ename": "TypeError",
     "evalue": "list indices must be integers or slices, not str",
     "output_type": "error",
     "traceback": [
      "\u001b[0;31m---------------------------------------------------------------------------\u001b[0m",
      "\u001b[0;31mTypeError\u001b[0m                                 Traceback (most recent call last)",
      "Cell \u001b[0;32mIn[6], line 3\u001b[0m\n\u001b[1;32m      1\u001b[0m num_parameters \u001b[39m=\u001b[39m widget_dict[\u001b[39m\"\u001b[39m\u001b[39mnum_parameters\u001b[39m\u001b[39m\"\u001b[39m]\u001b[39m.\u001b[39mvalue\n\u001b[1;32m      2\u001b[0m \u001b[39mif\u001b[39;00m num_parameters \u001b[39m>\u001b[39m \u001b[39m0\u001b[39m:\n\u001b[0;32m----> 3\u001b[0m     parameter_grid, _widget_dict \u001b[39m=\u001b[39m parameters_grid_generator(num_parameters, default_wd\u001b[39m=\u001b[39;49mwd)\n\u001b[1;32m      4\u001b[0m     display(parameter_grid)\n\u001b[1;32m      5\u001b[0m     widget_dict\u001b[39m.\u001b[39mupdate(_widget_dict)\n",
      "File \u001b[0;32m~/do-mpc/vis_utility.py:227\u001b[0m, in \u001b[0;36mparameters_grid_generator\u001b[0;34m(num_parameters, default_wd)\u001b[0m\n\u001b[1;32m    221\u001b[0m \u001b[39mfor\u001b[39;00m i \u001b[39min\u001b[39;00m \u001b[39mrange\u001b[39m(num_parameters):\n\u001b[1;32m    222\u001b[0m     para_def \u001b[39m=\u001b[39m Text(value\u001b[39m=\u001b[39mparameters_names[i],\n\u001b[1;32m    223\u001b[0m                 placeholder\u001b[39m=\u001b[39mparameters_names[i],\n\u001b[1;32m    224\u001b[0m                 description\u001b[39m=\u001b[39m\u001b[39mf\u001b[39m\u001b[39m\"\u001b[39m\u001b[39m{\u001b[39;00mi\u001b[39m+\u001b[39m\u001b[39m1\u001b[39m\u001b[39m}\u001b[39;00m\u001b[39m-th Parameter:\u001b[39m\u001b[39m\"\u001b[39m,\n\u001b[1;32m    225\u001b[0m                 style\u001b[39m=\u001b[39m{\u001b[39m'\u001b[39m\u001b[39mdescription_width\u001b[39m\u001b[39m'\u001b[39m: \u001b[39m'\u001b[39m\u001b[39minitial\u001b[39m\u001b[39m'\u001b[39m},\n\u001b[1;32m    226\u001b[0m                 disabled\u001b[39m=\u001b[39m\u001b[39mFalse\u001b[39;00m)\n\u001b[0;32m--> 227\u001b[0m     para_val \u001b[39m=\u001b[39m (\u001b[39m\"\u001b[39m\u001b[39m1,2,3\u001b[39m\u001b[39m\"\u001b[39m \u001b[39mif\u001b[39;00m default_wd \u001b[39mis\u001b[39;00m \u001b[39mNone\u001b[39;00m \u001b[39melse\u001b[39;00m default_wd[\u001b[39m'\u001b[39;49m\u001b[39mmodel\u001b[39;49m\u001b[39m'\u001b[39;49m][\u001b[39m'\u001b[39;49m\u001b[39muser_defined_parameters\u001b[39;49m\u001b[39m'\u001b[39;49m][parameters_names[i]])\n\u001b[1;32m    228\u001b[0m     para_uncertainties \u001b[39m=\u001b[39m Text(value\u001b[39m=\u001b[39mpara_val,\n\u001b[1;32m    229\u001b[0m                             placeholder\u001b[39m=\u001b[39mpara_val,\n\u001b[1;32m    230\u001b[0m                             description\u001b[39m=\u001b[39m\u001b[39m\"\u001b[39m\u001b[39mValues:\u001b[39m\u001b[39m\"\u001b[39m,\n\u001b[1;32m    231\u001b[0m                             disabled\u001b[39m=\u001b[39m\u001b[39mFalse\u001b[39;00m)\n\u001b[1;32m    233\u001b[0m     parameters_children\u001b[39m.\u001b[39mextend([para_def, para_uncertainties])\n",
      "\u001b[0;31mTypeError\u001b[0m: list indices must be integers or slices, not str"
     ]
    }
   ],
   "source": [
    "num_parameters = widget_dict[\"num_parameters\"].value\n",
    "if num_parameters > 0:\n",
    "    parameter_grid, _widget_dict = parameters_grid_generator(num_parameters, default_wd=wd)\n",
    "    display(parameter_grid)\n",
    "    widget_dict.update(_widget_dict)\n"
   ]
  },
  {
   "cell_type": "markdown",
   "metadata": {},
   "source": [
    "# Define auxiliary variables if any including name and its concrete definition based on other variables"
   ]
  },
  {
   "cell_type": "code",
   "execution_count": null,
   "metadata": {},
   "outputs": [],
   "source": [
    "num_aux_variables = widget_dict[\"num_aux_variables\"].value\n",
    "if num_aux_variables > 0:\n",
    "    aux_variable_grid, _widget_dict = aux_variable_grid_generator(num_aux_variables, default_wd=wd)\n",
    "    display(aux_variable_grid)\n",
    "    widget_dict.update(_widget_dict)"
   ]
  },
  {
   "cell_type": "markdown",
   "metadata": {},
   "source": [
    "# An example yaml config for simulator\n",
    "\n",
    "```yaml\n",
    "\n",
    "simulator:\n",
    "  parameters:\n",
    "    integration_tool: 'cvodes'\n",
    "    abstol: 1.0e-10\n",
    "    reltol: 1.0e-10\n",
    "    t_step: 1.0\n",
    "```\n",
    "---- \n",
    "\n",
    "# Define the simulator\n",
    "- Step 1: specify number of parameters in order to instantiate a simulate\n",
    "- Step 2: define each parameter"
   ]
  },
  {
   "cell_type": "code",
   "execution_count": null,
   "metadata": {},
   "outputs": [],
   "source": [
    "num_simulator_parameters = BoundedIntText(value=(1 if wd is None else len(list(wd[\"simulator\"].get(\"parameters\", {}).keys()))),\n",
    "                                           min=0,\n",
    "                                           step=1,\n",
    "                                           description='Num. Simulator Parameters:',\n",
    "                                           style={'description_width': 'initial'},\n",
    "                                           disabled=False)\n",
    "display(num_simulator_parameters)"
   ]
  },
  {
   "cell_type": "markdown",
   "metadata": {},
   "source": [
    "## Define parameters to initilize a simulator including name, value, and whether it is numeric"
   ]
  },
  {
   "cell_type": "code",
   "execution_count": null,
   "metadata": {},
   "outputs": [],
   "source": [
    "widget_dict.update({\"num_simulator_parameters\": num_simulator_parameters.value})\n",
    "\n",
    "if num_simulator_parameters.value > 0:\n",
    "    sim_para_grid, _widget_dict = simulator_parameter_grid_generator(num_simulator_parameters.value, default_wd=wd)\n",
    "    display(sim_para_grid)\n",
    "    widget_dict.update(_widget_dict)         "
   ]
  },
  {
   "cell_type": "markdown",
   "metadata": {},
   "source": [
    "# An example yaml config for reward function\n",
    "\n",
    "```yaml\n",
    "reward:\n",
    "  step_reward:\n",
    "    P_s:\n",
    "      expr: P_s\n",
    "      coef: 1.0\n",
    "  terminal_reward:\n",
    "    P_s:\n",
    "      expr: P_s\n",
    "      coef: 1.0\n",
    "  input_reward:\n",
    "    inp: 1.0\n",
    "```\n",
    "---- "
   ]
  },
  {
   "cell_type": "markdown",
   "metadata": {},
   "source": [
    "## Reward function may contain three components: \n",
    "- State step reward - define over state variables or expressions and will be calculated cumulatively during the execution\n",
    "- State terminal reward - similar as step reward except it only calculated in the terminal states\n",
    "- Action/input reward - to measure policy smoothness by calculating L1 distance between two actions/inputs in sequence"
   ]
  },
  {
   "cell_type": "code",
   "execution_count": null,
   "metadata": {},
   "outputs": [],
   "source": [
    "sv_names = [widget_dict[f\"sv_{i}_def\"].value for i in range(widget_dict[\"num_state_variables\"].value)]\n",
    "in_names = [widget_dict[f\"cv_{i}_def\"].value for i in range(widget_dict[\"num_control_variables\"].value)]\n",
    "\n",
    "state_rewards_grid, _widget_dict = state_rewards_grid_generator(sv_names)\n",
    "if len(sv_names) > 0:\n",
    "    widget_dict.update(_widget_dict)\n",
    "    display(state_rewards_grid)\n",
    "            "
   ]
  },
  {
   "cell_type": "code",
   "execution_count": null,
   "metadata": {},
   "outputs": [],
   "source": [
    "input_rewards_grid, _widget_dict = input_rewards_grid_generator(in_names)\n",
    "if len(in_names) > 0:\n",
    "    widget_dict.update(_widget_dict)\n",
    "    display(input_rewards_grid)"
   ]
  },
  {
   "cell_type": "markdown",
   "metadata": {},
   "source": [
    "# An example yaml config for MPC\n",
    "\n",
    "```yaml\n",
    "mpc:\n",
    "  setup:\n",
    "    n_horizon: 20\n",
    "    n_robust: 0\n",
    "    open_loop: 0\n",
    "    t_step: 1.0\n",
    "    state_discretization: collocation\n",
    "    collocation_type: radau\n",
    "    collocation_deg: 2\n",
    "    collocation_ni: 2\n",
    "    store_full_solution: True\n",
    "  bounds:\n",
    "    X_s:\n",
    "      lower: 0.0 # required\n",
    "      upper: 3.7 # required\n",
    "      soft: False # default, can be omitted\n",
    "    S_s:\n",
    "      lower: -0.01\n",
    "      upper: 2.0\n",
    "    P_s:\n",
    "      lower: 0.0\n",
    "      upper: 3.0\n",
    "    V_s:\n",
    "      lower: 0.0\n",
    "      upper: 150.0\n",
    "    inp:\n",
    "      lower: 0.0\n",
    "      upper: 0.2\n",
    "  uncertainities:\n",
    "    Y_x: [0.5, 0.4, 0.3]\n",
    "    S_in: [200.0, 220.0, 180.0]\n",
    "\n",
    "```\n",
    "---- "
   ]
  },
  {
   "cell_type": "markdown",
   "metadata": {},
   "source": [
    "# Define a MPC controller\n",
    "- Step 1: Specify number of parameters in order to instantiate a MPC controller\n",
    "- Step 2: Assign values to these parameters"
   ]
  },
  {
   "cell_type": "code",
   "execution_count": null,
   "metadata": {},
   "outputs": [],
   "source": [
    "num_MPC_parameters = BoundedIntText(value=(1 if wd is None else len(list(wd[\"mpc\"].get(\"setup\", {}).keys()))),\n",
    "                                    min=0,\n",
    "                                    step=1,\n",
    "                                    description='Num. MPC Parameters:',\n",
    "                                    style={'description_width': 'initial'},\n",
    "                                    disabled=False)\n",
    "display(num_MPC_parameters)\n",
    "\n"
   ]
  },
  {
   "cell_type": "markdown",
   "metadata": {},
   "source": [
    "## Define parameters to initilize a MPC controller including name, value, and whether it is numeric"
   ]
  },
  {
   "cell_type": "code",
   "execution_count": null,
   "metadata": {},
   "outputs": [],
   "source": [
    "widget_dict.update({\"num_MPC_parameters\": num_MPC_parameters.value})\n",
    "\n",
    "if num_MPC_parameters.value > 0:\n",
    "    MPC_para_grid, _widget_dict = MPC_parameter_grid_generator(num_MPC_parameters.value, default_wd=wd)\n",
    "    display(MPC_para_grid)\n",
    "    widget_dict.update(_widget_dict) "
   ]
  },
  {
   "cell_type": "markdown",
   "metadata": {},
   "source": [
    "# An example yaml config for estimator\n",
    "\n",
    "```yaml\n",
    "estimator:\n",
    "  type: StateFeedback # StateFeedback, EKF(Extended Kalman Filter), ..\n",
    "  parameters: null\n",
    "```\n",
    "---- \n",
    "- Step 1: Specify number of parameters to initialize an estimator\n",
    "- Step 2: Define each parameter including name, value, and type"
   ]
  },
  {
   "cell_type": "code",
   "execution_count": null,
   "metadata": {},
   "outputs": [],
   "source": [
    "num_estimator_parameters = BoundedIntText(value=(1 if wd is None else len(list(wd[\"estimator\"].get(\"parameters\", {}).keys()))),\n",
    "                                          min=0,\n",
    "                                          step=1,\n",
    "                                          description='Num. Estimator Parameters:',\n",
    "                                          style={'description_width': 'initial'},\n",
    "                                          disabled=False)\n",
    "display(num_estimator_parameters)"
   ]
  },
  {
   "cell_type": "code",
   "execution_count": null,
   "metadata": {},
   "outputs": [],
   "source": [
    "widget_dict.update({\"num_estimator_parameters\": num_estimator_parameters.value})\n",
    "\n",
    "if num_estimator_parameters.value > 0:\n",
    "    estimator_para_grid, _widget_dict = estimator_parameter_grid_generator(num_estimator_parameters.value)\n",
    "    display(estimator_para_grid)\n",
    "    widget_dict.update(_widget_dict)"
   ]
  },
  {
   "cell_type": "markdown",
   "metadata": {
    "tags": []
   },
   "source": [
    "# Save to a yaml file once we define everything\n"
   ]
  },
  {
   "cell_type": "code",
   "execution_count": null,
   "metadata": {},
   "outputs": [],
   "source": [
    "save2yaml(widget_dict, \"tmp.yaml\")"
   ]
  }
 ],
 "metadata": {
  "kernelspec": {
   "display_name": "Python 3 (ipykernel)",
   "language": "python",
   "name": "python3"
  },
  "language_info": {
   "codemirror_mode": {
    "name": "ipython",
    "version": 3
   },
   "file_extension": ".py",
   "mimetype": "text/x-python",
   "name": "python",
   "nbconvert_exporter": "python",
   "pygments_lexer": "ipython3",
   "version": "3.8.16"
  }
 },
 "nbformat": 4,
 "nbformat_minor": 4
}
