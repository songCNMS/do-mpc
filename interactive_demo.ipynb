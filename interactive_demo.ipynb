{
 "cells": [
  {
   "cell_type": "markdown",
   "metadata": {},
   "source": [
    "An example yaml config\n",
    "\n",
    "```yaml\n",
    "model:\n",
    "  model_name: batch_reactor_test\n",
    "  model_type: continuous\n",
    "  constants:\n",
    "    mu_m: 0.02\n",
    "    K_m: 0.05\n",
    "    K_i: 5.0\n",
    "    v_par: 0.004\n",
    "    Y_p: 1.2\n",
    "\n",
    "  state_variables:\n",
    "    X_s:\n",
    "      init_val: 1.0\n",
    "      init_val_lower: 0.9\n",
    "      init_val_upper: 1.1\n",
    "      rhs: mu_S*X_s - inp/V_s*X_s\n",
    "      shape: (1,) # default value, can be omitted\n",
    "      scaling: 1 # default value, can be omitted\n",
    "    S_s:\n",
    "      init_val: 0.5\n",
    "      init_val_lower: 0.4\n",
    "      init_val_upper: 0.6\n",
    "      rhs: mu_S*X_s/Y_x - v_par*X_s/Y_p + inp/V_s*(S_in-S_s)\n",
    "    P_s:\n",
    "      init_val: 0.0\n",
    "      init_val_lower: 0.0\n",
    "      init_val_upper: 0.2\n",
    "      rhs: v_par*X_s - inp/V_s*P_s\n",
    "    V_s:\n",
    "      init_val: 120.0\n",
    "      init_val_lower: 110.0\n",
    "      init_val_upper: 130.0\n",
    "      rhs: inp\n",
    "\n",
    "  control_variables:\n",
    "    inp:\n",
    "      shape: (1,) # default value, can be omitted\n",
    "\n",
    "  user_defined_parameters:\n",
    "    - Y_x\n",
    "    - S_in\n",
    "  aux_variables:\n",
    "    mu_S:\n",
    "      expr: mu_m*S_s/(K_m+S_s+(S_s**2/K_i))\n",
    "```\n",
    "---- "
   ]
  },
  {
   "cell_type": "markdown",
   "metadata": {},
   "source": [
    "# Define your model"
   ]
  },
  {
   "cell_type": "code",
   "execution_count": 3,
   "metadata": {},
   "outputs": [
    {
     "data": {
      "application/vnd.jupyter.widget-view+json": {
       "model_id": "1458ea6cde6d4373bb0ec1ad4f05097a",
       "version_major": 2,
       "version_minor": 0
      },
      "text/plain": [
       "GridspecLayout(children=(Button(description='Model Specification', layout=Layout(grid_area='widget001', width=…"
      ]
     },
     "metadata": {},
     "output_type": "display_data"
    }
   ],
   "source": [
    "from vis_utility import *\n",
    "\n",
    "header  = Button(description='Model Specification',\n",
    "                 layout=Layout(width='auto', grid_area='header'),\n",
    "                 style=ButtonStyle(button_color='lightblue'))\n",
    "model_name = Text(value='Model Name',\n",
    "                  placeholder='Type something',\n",
    "                  description='Model Name:',\n",
    "                  disabled=False)\n",
    "\n",
    "model_type = Dropdown(options=['continuous', 'discrete'],\n",
    "                      value='continuous',\n",
    "                      description='Model Type:',\n",
    "                      disabled=False)\n",
    "\n",
    "\n",
    "num_constants = BoundedIntText(value=0,\n",
    "                               min=0,\n",
    "                               step=1,\n",
    "                               description='Num. Constants:',\n",
    "                               disabled=False)\n",
    "\n",
    "\n",
    "num_state_variables = BoundedIntText(value=0,\n",
    "                                     min=0,\n",
    "                                     step=1,\n",
    "                                     description='Num. State Variables:',\n",
    "                                     disabled=False)\n",
    "\n",
    "\n",
    "\n",
    "num_control_variables = BoundedIntText(value=0,\n",
    "                                       min=0,\n",
    "                                       step=1,\n",
    "                                       description='Num. Control Variables:',\n",
    "                                       disabled=False)\n",
    "\n",
    "\n",
    "num_parameters = BoundedIntText(value=0,\n",
    "                                min=0,\n",
    "                                step=1,\n",
    "                                description='Num. User Defined Parameters',\n",
    "                                disabled=False)\n",
    "\n",
    "\n",
    "num_aux_variables = BoundedIntText(value=0,\n",
    "                                   min=0,\n",
    "                                   step=1,\n",
    "                                   description='Num. Auxiliary Variables:',\n",
    "                                   disabled=False)\n",
    "\n",
    "\n",
    "children=[model_name, model_type, num_constants,\n",
    "          num_state_variables, num_control_variables,\n",
    "          num_parameters, num_aux_variables]\n",
    "\n",
    "grid = layout_generator(header, children, col_width=400)\n",
    "display(grid)\n"
   ]
  },
  {
   "cell_type": "code",
   "execution_count": 6,
   "metadata": {},
   "outputs": [
    {
     "data": {
      "application/vnd.jupyter.widget-view+json": {
       "model_id": "1b083a69b51f40bcabcc2259c21972e0",
       "version_major": 2,
       "version_minor": 0
      },
      "text/plain": [
       "GridspecLayout(children=(Button(description='Constants Definition', layout=Layout(grid_area='widget001', width…"
      ]
     },
     "metadata": {},
     "output_type": "display_data"
    }
   ],
   "source": [
    "# define details of each variable/constant/parameter\n",
    "\n",
    "if num_constants.value > 0:\n",
    "    constant_children = []\n",
    "    constant_names = []\n",
    "    constant_values = []\n",
    "    constants_header = Button(description='Constants Definition',\n",
    "                     layout=Layout(width='auto', grid_area='header'),\n",
    "                     style=ButtonStyle(button_color='lightblue'))\n",
    "    for i in range(num_constants.value):\n",
    "        constant_def = Text(value=f\"X_{i}\",\n",
    "                            placeholder=f\"X_{i}\",\n",
    "                            description=f\"{i+1}-th Constant Name:\",\n",
    "                            disabled=False)\n",
    "\n",
    "        constant_val = FloatText(value=0.0,\n",
    "                                 description=f\"Value:\",\n",
    "                                 disabled=False)\n",
    "        constant_children.extend([constant_def, constant_val])\n",
    "        constant_names.append(constant_def)\n",
    "        constant_values.append(constant_val)\n",
    "\n",
    "\n",
    "    grid = layout_generator(constants_header, constant_children, col_width=400)\n",
    "    display(grid)\n"
   ]
  },
  {
   "cell_type": "code",
   "execution_count": 27,
   "metadata": {},
   "outputs": [
    {
     "data": {
      "application/vnd.jupyter.widget-view+json": {
       "model_id": "c320e8cc0f9c4a1e8fef4673b5ddacf3",
       "version_major": 2,
       "version_minor": 0
      },
      "text/plain": [
       "GridspecLayout(children=(Button(description='State Variables Definition', layout=Layout(grid_area='widget001',…"
      ]
     },
     "metadata": {},
     "output_type": "display_data"
    }
   ],
   "source": [
    "\"\"\"\n",
    "state_variables:\n",
    "    X_s:\n",
    "      init_val: 1.0\n",
    "      init_val_lower: 0.9\n",
    "      init_val_upper: 1.1\n",
    "      rhs: mu_S*X_s - inp/V_s*X_s\n",
    "      shape: (1,) # default value, can be omitted\n",
    "      scaling: 1 # default value, can be omitted\n",
    "\"\"\"\n",
    "\n",
    "if num_state_variables.value > 0:\n",
    "    state_variables_children = []\n",
    "    state_variables_names = []\n",
    "    state_variables_init_values = []\n",
    "    state_variables_lower_bounds = []\n",
    "    state_variables_upper_bounds = []\n",
    "    state_variables_rhs = []\n",
    "    state_variables_shape = []\n",
    "    state_variables_scaling = []\n",
    "    state_variables_soft = []\n",
    "    \n",
    "    state_variables_header = Button(description='State Variables Definition',\n",
    "                     layout=Layout(width='auto', grid_area='header'),\n",
    "                     style=ButtonStyle(button_color='lightblue'))\n",
    "    for i in range(num_constants.value):\n",
    "        sv_def = Text(value=f\"X_{i}\",\n",
    "                            placeholder=f\"X_{i}\",\n",
    "                            description=f\"{i+1}-th State Variable Name:\",\n",
    "                            disabled=False)\n",
    "\n",
    "        sv_init_val = FloatText(value=0.0,\n",
    "                                 description=f\"Init Value:\",\n",
    "                                 disabled=False)\n",
    "        \n",
    "        sv_lower_bound = FloatText(value=0.0,\n",
    "                                  description=f\"Lower Bound:\",\n",
    "                                  disabled=False)\n",
    "        \n",
    "        sv_upper_bound = FloatText(value=0.0,\n",
    "                                   description=f\"Upper Bound:\",\n",
    "                                   disabled=False)\n",
    "        \n",
    "        sv_rhs = Text(value=\"x1+x2\",\n",
    "                            placeholder=\"x1+x2\",\n",
    "                            description=\"RHS:\",\n",
    "                            disabled=False)\n",
    "\n",
    "        sv_shape = Text(value=\"(1,)\",\n",
    "                        placeholder=\"(1,)\",\n",
    "                        description=\"Shape:\",\n",
    "                        disabled=False)\n",
    "                      \n",
    "        sv_scaling = FloatText(value=1.0,\n",
    "                               description=f\"Scaling:\",\n",
    "                               disabled=False)\n",
    "        \n",
    "        sv_soft = Checkbox(value=False,\n",
    "                           description='Soft',\n",
    "                           disabled=False,\n",
    "                           indent=False)\n",
    "\n",
    "        \n",
    "        state_variables_children.extend([sv_def, sv_init_val, sv_lower_bound, sv_upper_bound, sv_rhs, sv_shape, sv_scaling, sv_soft])\n",
    "        state_variables_names.append(sv_def)\n",
    "        state_variables_init_values.append(sv_init_val)\n",
    "        state_variables_lower_bounds.append(sv_lower_bound)\n",
    "        state_variables_upper_bounds.append(sv_upper_bound)\n",
    "        state_variables_rhs.append(sv_rhs)\n",
    "        state_variables_shape.append(sv_shape)\n",
    "        state_variables_scaling.append(sv_scaling)\n",
    "        state_variables_soft.append(sv_soft)\n",
    "\n",
    "    grid = layout_generator(state_variables_header, state_variables_children, num_cols=8, col_width=200)\n",
    "    display(grid)\n",
    "    \n",
    "    "
   ]
  },
  {
   "cell_type": "code",
   "execution_count": 30,
   "metadata": {},
   "outputs": [
    {
     "data": {
      "application/vnd.jupyter.widget-view+json": {
       "model_id": "2c37c3b6fb4647b1b1bd27e872561de1",
       "version_major": 2,
       "version_minor": 0
      },
      "text/plain": [
       "GridspecLayout(children=(Button(description='Control Variables Definition', layout=Layout(grid_area='widget001…"
      ]
     },
     "metadata": {},
     "output_type": "display_data"
    }
   ],
   "source": [
    "\"\"\"\n",
    "control_variables:\n",
    "    inp:\n",
    "      shape: (1,) # default value, can be omitted\n",
    "\"\"\"\n",
    "\n",
    "if num_control_variables.value > 0:\n",
    "    control_variables_children = []\n",
    "    control_variables_names = []\n",
    "    control_variables_shapes = []\n",
    "    control_variables_header = Button(description='Control Variables Definition',\n",
    "                     layout=Layout(width='auto', grid_area='header'),\n",
    "                     style=ButtonStyle(button_color='lightblue'))\n",
    "    for i in range(num_control_variables.value):\n",
    "        cv_def = Text(value=f\"In_{i}\",\n",
    "                      placeholder=f\"In_{i}\",\n",
    "                      description=f\"{i+1}-th Control Variable:\",\n",
    "                      disabled=False)\n",
    "\n",
    "        cv_shape = Text(value=\"(1,)\",\n",
    "                        placeholder=\"(1,)\",\n",
    "                        description=\"Shape:\",\n",
    "                        disabled=False)\n",
    "        control_variables_children.extend([cv_def, cv_shape])\n",
    "        control_variables_names.append(cv_def)\n",
    "        control_variables_shapes.append(cv_shape)\n",
    "\n",
    "\n",
    "    grid = layout_generator(control_variables_header, control_variables_children, col_width=400)\n",
    "    display(grid)\n",
    "\n"
   ]
  },
  {
   "cell_type": "code",
   "execution_count": 19,
   "metadata": {},
   "outputs": [
    {
     "data": {
      "application/vnd.jupyter.widget-view+json": {
       "model_id": "01b142d1669446ff85f4c82411140704",
       "version_major": 2,
       "version_minor": 0
      },
      "text/plain": [
       "GridspecLayout(children=(Button(description='User Defined Parameter Definition', layout=Layout(grid_area='widg…"
      ]
     },
     "metadata": {},
     "output_type": "display_data"
    }
   ],
   "source": [
    "\"\"\"\n",
    "  user_defined_parameters:\n",
    "    - Y_x\n",
    "    - S_in\n",
    "\"\"\"\n",
    "\n",
    "if num_parameters.value > 0:\n",
    "    parameters_children = []\n",
    "    parameters_names = []\n",
    "    parameters_uncertainities = []\n",
    "    parameters_header = Button(description='User Defined Parameter Definition',\n",
    "                     layout=Layout(width='auto', grid_area='header'),\n",
    "                     style=ButtonStyle(button_color='lightblue'))\n",
    "    for i in range(num_parameters.value):\n",
    "        para_def = Text(value=f\"Parameter_{i}\",\n",
    "                      placeholder=f\"Parameter_{i}\",\n",
    "                      description=f\"{i+1}-th Parameter:\",\n",
    "                      disabled=False)\n",
    "        \n",
    "        para_uncertainties = Text(value=\"1,2,3\",\n",
    "                                  placeholder=\"1,2,3\",\n",
    "                                  description=\"Values:\",\n",
    "                                  disabled=False)\n",
    "\n",
    "        parameters_children.extend([para_def, para_uncertainties])\n",
    "        parameters_uncertainities.append(para_uncertainties)\n",
    "        parameters_names.append(para_def)\n",
    "\n",
    "\n",
    "    grid = layout_generator(parameters_header, parameters_children, col_width=400)\n",
    "    display(grid)\n"
   ]
  },
  {
   "cell_type": "code",
   "execution_count": 16,
   "metadata": {},
   "outputs": [
    {
     "data": {
      "application/vnd.jupyter.widget-view+json": {
       "model_id": "6fe55e062e014ba1bc4bb06ea7e50dee",
       "version_major": 2,
       "version_minor": 0
      },
      "text/plain": [
       "GridspecLayout(children=(Button(description='Auxiliary Variables Definition', layout=Layout(grid_area='widget0…"
      ]
     },
     "metadata": {},
     "output_type": "display_data"
    }
   ],
   "source": [
    "\"\"\"\n",
    "aux_variables:\n",
    "    mu_S:\n",
    "      expr: mu_m*S_s/(K_m+S_s+(S_s**2/K_i))\n",
    "\"\"\"\n",
    "\n",
    "if num_aux_variables.value > 0:\n",
    "    aux_variables_children = []\n",
    "    aux_variables_names = []\n",
    "    aux_variables_expr = []\n",
    "    aux_variables_header = Button(description='Auxiliary Variables Definition',\n",
    "                     layout=Layout(width='auto', grid_area='header'),\n",
    "                     style=ButtonStyle(button_color='lightblue'))\n",
    "    for i in range(num_aux_variables.value):\n",
    "        av_def = Text(value=f\"Aux_Variable_{i}\",\n",
    "                      placeholder=f\"Aux_Variable_{i}\",\n",
    "                      description=f\"{i+1}-th Aux. Variable:\",\n",
    "                      disabled=False)\n",
    "        \n",
    "        av_expr = Text(value=f\"Expr_{i}\",\n",
    "                      placeholder=f\"Expr_{i}\",\n",
    "                      description=f\"Expr:\",\n",
    "                      disabled=False)\n",
    "\n",
    "        aux_variables_names.append(av_def)\n",
    "        aux_variables_expr.append(av_expr)\n",
    "        aux_variables_children.extend([av_def, av_expr])\n",
    "\n",
    "\n",
    "    grid = layout_generator(aux_variables_header, aux_variables_children, col_width=400)\n",
    "    display(grid)\n",
    "\n"
   ]
  },
  {
   "cell_type": "markdown",
   "metadata": {},
   "source": [
    "An example yaml config\n",
    "\n",
    "```yaml\n",
    "\n",
    "simulator:\n",
    "  parameters:\n",
    "    integration_tool: 'cvodes'\n",
    "    abstol: 1.0e-10\n",
    "    reltol: 1.0e-10\n",
    "    t_step: 1.0\n",
    "```\n",
    "---- "
   ]
  },
  {
   "cell_type": "code",
   "execution_count": 23,
   "metadata": {},
   "outputs": [
    {
     "data": {
      "application/vnd.jupyter.widget-view+json": {
       "model_id": "5b35dce7d3cd4fad84d1b527f2c908de",
       "version_major": 2,
       "version_minor": 0
      },
      "text/plain": [
       "BoundedIntText(value=0, description='Num. Simulator Parameters:')"
      ]
     },
     "metadata": {},
     "output_type": "display_data"
    }
   ],
   "source": [
    "# define the simulator\n",
    "\n",
    "num_simulator_parameters = BoundedIntText(value=0,\n",
    "                                           min=0,\n",
    "                                           step=1,\n",
    "                                           description='Num. Simulator Parameters:',\n",
    "                                           disabled=False)\n",
    "num_simulator_parameters"
   ]
  },
  {
   "cell_type": "code",
   "execution_count": 25,
   "metadata": {},
   "outputs": [
    {
     "data": {
      "application/vnd.jupyter.widget-view+json": {
       "model_id": "67a04a13ce704724b183fd93adfba0df",
       "version_major": 2,
       "version_minor": 0
      },
      "text/plain": [
       "GridspecLayout(children=(Button(description='Simulator Parameters', layout=Layout(grid_area='widget001', width…"
      ]
     },
     "metadata": {},
     "output_type": "display_data"
    }
   ],
   "source": [
    "if num_simulator_parameters.value > 0:\n",
    "    num_simulator_parameters_children = []\n",
    "    num_simulator_parameters_names = []\n",
    "    num_simulator_parameters_values = []\n",
    "    num_simulator_parameters_header = Button(description='Simulator Parameters',\n",
    "                     layout=Layout(width='auto', grid_area='header'),\n",
    "                     style=ButtonStyle(button_color='lightblue'))\n",
    "    for i in range(num_simulator_parameters.value):\n",
    "        sp_def = Text(value=f\"Sim_Parameter_{i}\",\n",
    "                      placeholder=f\"Sim_Parameter_{i}\",\n",
    "                      description=f\"{i+1}-th Parameter of Simulator:\",\n",
    "                      disabled=False)\n",
    "        \n",
    "        sp_val = Text(value=\"val\",\n",
    "                      placeholder=\"val\",\n",
    "                      description=\"Value:\",\n",
    "                      disabled=False)\n",
    "\n",
    "        sp_numeric =  Checkbox(value=False,\n",
    "                           description='Numeric',\n",
    "                           disabled=False,\n",
    "                           indent=False)\n",
    "        \n",
    "        num_simulator_parameters_names.append(sp_def)\n",
    "        num_simulator_parameters_values.append(sp_val)\n",
    "        num_simulator_parameters_children.extend([sp_def, sp_val, sp_numeric])\n",
    "\n",
    "\n",
    "    grid = layout_generator(num_simulator_parameters_header, num_simulator_parameters_children, num_cols=3, col_width=400)\n",
    "    display(grid)"
   ]
  },
  {
   "cell_type": "markdown",
   "metadata": {},
   "source": [
    "An example yaml config\n",
    "\n",
    "```yaml\n",
    "reward:\n",
    "  step_reward:\n",
    "    P_s:\n",
    "      expr: P_s\n",
    "      coef: 1.0\n",
    "  terminal_reward:\n",
    "    P_s:\n",
    "      expr: P_s\n",
    "      coef: 1.0\n",
    "  input_reward:\n",
    "    inp: 1.0\n",
    "```\n",
    "---- "
   ]
  },
  {
   "cell_type": "code",
   "execution_count": 49,
   "metadata": {},
   "outputs": [
    {
     "data": {
      "application/vnd.jupyter.widget-view+json": {
       "model_id": "685610df68f04accb4d64e7563a5089e",
       "version_major": 2,
       "version_minor": 0
      },
      "text/plain": [
       "GridspecLayout(children=(Button(description='Define State Reward', layout=Layout(grid_area='widget001', width=…"
      ]
     },
     "metadata": {},
     "output_type": "display_data"
    }
   ],
   "source": [
    "# define reward function\n",
    "\n",
    "sv_names = [val.value for val in state_variables_names]\n",
    "sv_names\n",
    "in_names = [val.value for val in control_variables_names]\n",
    "in_names\n",
    "\n",
    "if len(sv_names) > 0:\n",
    "    state_reward_header = Button(description='Define State Reward',\n",
    "                                layout=Layout(width='auto', grid_area='header'),\n",
    "                                style=ButtonStyle(button_color='lightblue'))\n",
    "    step_rewards_expr = []\n",
    "    step_rewards_coef = []\n",
    "    terminal_rewards_expr = []\n",
    "    terminal_rewards_coef = []\n",
    "    state_rewards_children = []\n",
    "    for i in range(len(sv_names)):\n",
    "        sr_def = Label(value=sv_names[i],\n",
    "                       disabled=False)\n",
    "\n",
    "        sr_expr = Text(value=f\"({sv_names[i]}-0.6)\",\n",
    "                            placeholder=f\"({sv_names[i]}-0.6)\",\n",
    "                            description=\"Step Expr:\",\n",
    "                            disabled=False)\n",
    "\n",
    "        sr_coef = FloatText(value=0.0,\n",
    "                            description=f\"Step Coef:\",\n",
    "                            disabled=False)\n",
    "        \n",
    "        tr_expr = Text(value=f\"({sv_names[i]}-0.6)\",\n",
    "                            placeholder=f\"({sv_names[i]}-0.6)\",\n",
    "                            description=\"Terminal Expr:\",\n",
    "                            disabled=False)\n",
    "\n",
    "        tr_coef = FloatText(value=0.0,\n",
    "                            description=f\"Terminal Coef:\",\n",
    "                            disabled=False)\n",
    "        \n",
    "        step_rewards_expr.append(sr_expr)\n",
    "        step_rewards_coef.append(sr_coef)\n",
    "        terminal_rewards_expr.append(tr_expr)\n",
    "        terminal_rewards_coef.append(tr_coef)\n",
    "        state_rewards_children.extend([sr_def, sr_expr, sr_coef, tr_expr, tr_coef])\n",
    "\n",
    "    grid = layout_generator(state_reward_header, state_rewards_children, num_cols=5, col_width=250)\n",
    "    display(grid)\n",
    "            "
   ]
  },
  {
   "cell_type": "code",
   "execution_count": 50,
   "metadata": {},
   "outputs": [
    {
     "data": {
      "application/vnd.jupyter.widget-view+json": {
       "model_id": "296a829478b34308b3b8d53f95ccf7f9",
       "version_major": 2,
       "version_minor": 0
      },
      "text/plain": [
       "GridspecLayout(children=(Button(description='Define Input Reward', layout=Layout(grid_area='widget001', width=…"
      ]
     },
     "metadata": {},
     "output_type": "display_data"
    }
   ],
   "source": [
    "if len(in_names) > 0:\n",
    "    input_reward_header = Button(description='Define Input Reward',\n",
    "                                layout=Layout(width='auto', grid_area='header'),\n",
    "                                style=ButtonStyle(button_color='lightblue'))\n",
    "    input_rewards_coef = []\n",
    "    input_rewards_children = []\n",
    "    for i in range(len(in_names)):\n",
    "        in_def = Label(value=in_names[i], disabled=False)\n",
    "\n",
    "        in_coef = FloatText(value=0.0,\n",
    "                            description=f\"Coef:\",\n",
    "                            disabled=False)\n",
    "        input_rewards_coef.append(in_coef)\n",
    "        input_rewards_children.extend([in_def, in_coef])\n",
    "\n",
    "    grid = layout_generator(input_reward_header, input_rewards_children, num_cols=2, col_width=400)\n",
    "    display(grid)"
   ]
  },
  {
   "cell_type": "markdown",
   "metadata": {},
   "source": [
    "An example yaml config\n",
    "\n",
    "```yaml\n",
    "mpc:\n",
    "  setup:\n",
    "    n_horizon: 20\n",
    "    n_robust: 0\n",
    "    open_loop: 0\n",
    "    t_step: 1.0\n",
    "    state_discretization: collocation\n",
    "    collocation_type: radau\n",
    "    collocation_deg: 2\n",
    "    collocation_ni: 2\n",
    "    store_full_solution: True\n",
    "  bounds:\n",
    "    X_s:\n",
    "      lower: 0.0 # required\n",
    "      upper: 3.7 # required\n",
    "      soft: False # default, can be omitted\n",
    "    S_s:\n",
    "      lower: -0.01\n",
    "      upper: 2.0\n",
    "    P_s:\n",
    "      lower: 0.0\n",
    "      upper: 3.0\n",
    "    V_s:\n",
    "      lower: 0.0\n",
    "      upper: 150.0\n",
    "    inp:\n",
    "      lower: 0.0\n",
    "      upper: 0.2\n",
    "  uncertainities:\n",
    "    Y_x: [0.5, 0.4, 0.3]\n",
    "    S_in: [200.0, 220.0, 180.0]\n",
    "\n",
    "```\n",
    "---- "
   ]
  },
  {
   "cell_type": "markdown",
   "metadata": {},
   "source": [
    "An example yaml config\n",
    "\n",
    "```yaml\n",
    "estimator:\n",
    "  type: StateFeedback # StateFeedback, EKF(Extended Kalman Filter), ..\n",
    "  parameters: null\n",
    "```\n",
    "---- "
   ]
  }
 ],
 "metadata": {
  "kernelspec": {
   "display_name": "Python 3 (ipykernel)",
   "language": "python",
   "name": "python3"
  },
  "language_info": {
   "codemirror_mode": {
    "name": "ipython",
    "version": 3
   },
   "file_extension": ".py",
   "mimetype": "text/x-python",
   "name": "python",
   "nbconvert_exporter": "python",
   "pygments_lexer": "ipython3",
   "version": "3.9.13"
  }
 },
 "nbformat": 4,
 "nbformat_minor": 4
}
