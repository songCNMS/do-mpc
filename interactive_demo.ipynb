{
 "cells": [
  {
   "cell_type": "markdown",
   "metadata": {},
   "source": [
    "An example yaml config\n",
    "\n",
    "```yaml\n",
    "model:\n",
    "  model_name: batch_reactor_test\n",
    "  model_type: continuous\n",
    "  constants:\n",
    "    mu_m: 0.02\n",
    "    K_m: 0.05\n",
    "    K_i: 5.0\n",
    "    v_par: 0.004\n",
    "    Y_p: 1.2\n",
    "\n",
    "  state_variables:\n",
    "    X_s:\n",
    "      init_val: 1.0\n",
    "      init_val_lower: 0.9\n",
    "      init_val_upper: 1.1\n",
    "      rhs: mu_S*X_s - inp/V_s*X_s\n",
    "      shape: (1,) # default value, can be omitted\n",
    "      scaling: 1 # default value, can be omitted\n",
    "    S_s:\n",
    "      init_val: 0.5\n",
    "      init_val_lower: 0.4\n",
    "      init_val_upper: 0.6\n",
    "      rhs: mu_S*X_s/Y_x - v_par*X_s/Y_p + inp/V_s*(S_in-S_s)\n",
    "    P_s:\n",
    "      init_val: 0.0\n",
    "      init_val_lower: 0.0\n",
    "      init_val_upper: 0.2\n",
    "      rhs: v_par*X_s - inp/V_s*P_s\n",
    "    V_s:\n",
    "      init_val: 120.0\n",
    "      init_val_lower: 110.0\n",
    "      init_val_upper: 130.0\n",
    "      rhs: inp\n",
    "\n",
    "  control_variables:\n",
    "    inp:\n",
    "      shape: (1,) # default value, can be omitted\n",
    "\n",
    "  user_defined_parameters:\n",
    "    - Y_x\n",
    "    - S_in\n",
    "  aux_variables:\n",
    "    mu_S:\n",
    "      expr: mu_m*S_s/(K_m+S_s+(S_s**2/K_i))\n",
    "```\n",
    "---- "
   ]
  },
  {
   "cell_type": "markdown",
   "metadata": {},
   "source": [
    "# Define your model"
   ]
  },
  {
   "cell_type": "code",
   "execution_count": 1,
   "metadata": {},
   "outputs": [
    {
     "data": {
      "application/vnd.jupyter.widget-view+json": {
       "model_id": "7b78060a42a6460a8d12c6efa046e7ed",
       "version_major": 2,
       "version_minor": 0
      },
      "text/plain": [
       "GridspecLayout(children=(Button(description='Model Specification', layout=Layout(grid_area='widget001', width=…"
      ]
     },
     "metadata": {},
     "output_type": "display_data"
    }
   ],
   "source": [
    "from vis_utility import *\n",
    "\n",
    "var_grid, widget_dict = var_num_grid_generator()\n",
    "\n",
    "display(var_grid)\n"
   ]
  },
  {
   "cell_type": "code",
   "execution_count": 2,
   "metadata": {},
   "outputs": [
    {
     "data": {
      "application/vnd.jupyter.widget-view+json": {
       "model_id": "fc6f343db5ab44fbad201220c1f0889a",
       "version_major": 2,
       "version_minor": 0
      },
      "text/plain": [
       "GridspecLayout(children=(Button(description='Constants Definition', layout=Layout(grid_area='widget001', width…"
      ]
     },
     "metadata": {},
     "output_type": "display_data"
    }
   ],
   "source": [
    "# define details of each variable/constant/parameter\n",
    "num_constants = widget_dict[\"num_constants\"].value\n",
    "constant_grid, _widget_dict = constants_grid_generator(num_constants)\n",
    "if num_constants > 0:\n",
    "    display(constant_grid)\n",
    "    widget_dict.update(_widget_dict)"
   ]
  },
  {
   "cell_type": "code",
   "execution_count": 3,
   "metadata": {},
   "outputs": [
    {
     "data": {
      "application/vnd.jupyter.widget-view+json": {
       "model_id": "161a583e24b74c1bb1a0444b89e37efe",
       "version_major": 2,
       "version_minor": 0
      },
      "text/plain": [
       "GridspecLayout(children=(Button(description='State Variables Definition', layout=Layout(grid_area='widget001',…"
      ]
     },
     "metadata": {},
     "output_type": "display_data"
    }
   ],
   "source": [
    "\"\"\"\n",
    "state_variables:\n",
    "    X_s:\n",
    "      init_val: 1.0\n",
    "      init_val_lower: 0.9\n",
    "      init_val_upper: 1.1\n",
    "      rhs: mu_S*X_s - inp/V_s*X_s\n",
    "      shape: (1,) # default value, can be omitted\n",
    "      scaling: 1 # default value, can be omitted\n",
    "\"\"\"\n",
    "num_state_variables = widget_dict[\"num_state_variables\"].value\n",
    "sv_grid, _widget_dict = state_variables_grid_generator(num_state_variables)\n",
    "if num_state_variables > 0:\n",
    "    display(sv_grid)\n",
    "    widget_dict.update(_widget_dict)\n",
    "    \n",
    "    "
   ]
  },
  {
   "cell_type": "code",
   "execution_count": 4,
   "metadata": {},
   "outputs": [
    {
     "data": {
      "application/vnd.jupyter.widget-view+json": {
       "model_id": "de406da640f34a5c835c7b7bf3f95a28",
       "version_major": 2,
       "version_minor": 0
      },
      "text/plain": [
       "GridspecLayout(children=(Button(description='Control Variables Definition', layout=Layout(grid_area='widget001…"
      ]
     },
     "metadata": {},
     "output_type": "display_data"
    }
   ],
   "source": [
    "\"\"\"\n",
    "control_variables:\n",
    "    inp:\n",
    "      shape: (1,) # default value, can be omitted\n",
    "\"\"\"\n",
    "\n",
    "num_control_variables = widget_dict[\"num_control_variables\"].value\n",
    "if num_control_variables > 0:\n",
    "    control_grid, _widget_dict = control_variables_grid_generator(num_control_variables)\n",
    "    display(control_grid)\n",
    "    widget_dict.update(_widget_dict)\n",
    "\n"
   ]
  },
  {
   "cell_type": "code",
   "execution_count": 5,
   "metadata": {},
   "outputs": [
    {
     "data": {
      "application/vnd.jupyter.widget-view+json": {
       "model_id": "389aba844c3f4be2a51407a4bd9bae67",
       "version_major": 2,
       "version_minor": 0
      },
      "text/plain": [
       "GridspecLayout(children=(Button(description='User Defined Parameter Definition', layout=Layout(grid_area='widg…"
      ]
     },
     "metadata": {},
     "output_type": "display_data"
    }
   ],
   "source": [
    "\"\"\"\n",
    "  user_defined_parameters:\n",
    "    - Y_x\n",
    "    - S_in\n",
    "\"\"\"\n",
    "num_parameters = widget_dict[\"num_parameters\"].value\n",
    "if num_parameters > 0:\n",
    "    parameter_grid, _widget_dict = parameters_grid_generator(num_parameters)\n",
    "    display(parameter_grid)\n",
    "    widget_dict.update(_widget_dict)\n"
   ]
  },
  {
   "cell_type": "code",
   "execution_count": 6,
   "metadata": {},
   "outputs": [
    {
     "data": {
      "application/vnd.jupyter.widget-view+json": {
       "model_id": "a73cefc9b25c4e85b7714902cc2014a4",
       "version_major": 2,
       "version_minor": 0
      },
      "text/plain": [
       "GridspecLayout(children=(Button(description='Auxiliary Variables Definition', layout=Layout(grid_area='widget0…"
      ]
     },
     "metadata": {},
     "output_type": "display_data"
    }
   ],
   "source": [
    "\"\"\"\n",
    "aux_variables:\n",
    "    mu_S:\n",
    "      expr: mu_m*S_s/(K_m+S_s+(S_s**2/K_i))\n",
    "\"\"\"\n",
    "\n",
    "num_aux_variables = widget_dict[\"num_aux_variables\"].value\n",
    "if num_aux_variables > 0:\n",
    "    aux_variable_grid, _widget_dict = aux_variable_grid_generator(num_aux_variables)\n",
    "    display(aux_variable_grid)\n",
    "    widget_dict.update(_widget_dict)\n",
    "    \n",
    "\n",
    "\n",
    "\n"
   ]
  },
  {
   "cell_type": "markdown",
   "metadata": {},
   "source": [
    "An example yaml config\n",
    "\n",
    "```yaml\n",
    "\n",
    "simulator:\n",
    "  parameters:\n",
    "    integration_tool: 'cvodes'\n",
    "    abstol: 1.0e-10\n",
    "    reltol: 1.0e-10\n",
    "    t_step: 1.0\n",
    "```\n",
    "---- "
   ]
  },
  {
   "cell_type": "code",
   "execution_count": 7,
   "metadata": {},
   "outputs": [
    {
     "data": {
      "application/vnd.jupyter.widget-view+json": {
       "model_id": "7810d5d2ae5443a9a2f150206a9f86ba",
       "version_major": 2,
       "version_minor": 0
      },
      "text/plain": [
       "BoundedIntText(value=1, description='Num. Simulator Parameters:')"
      ]
     },
     "metadata": {},
     "output_type": "display_data"
    }
   ],
   "source": [
    "# define the simulator\n",
    "\n",
    "num_simulator_parameters = BoundedIntText(value=1,\n",
    "                                           min=0,\n",
    "                                           step=1,\n",
    "                                           description='Num. Simulator Parameters:',\n",
    "                                           disabled=False)\n",
    "display(num_simulator_parameters)"
   ]
  },
  {
   "cell_type": "code",
   "execution_count": 8,
   "metadata": {},
   "outputs": [
    {
     "data": {
      "application/vnd.jupyter.widget-view+json": {
       "model_id": "404cdc095a3346fcba39431d452799a5",
       "version_major": 2,
       "version_minor": 0
      },
      "text/plain": [
       "GridspecLayout(children=(Button(description='Simulator Parameters', layout=Layout(grid_area='widget001', width…"
      ]
     },
     "metadata": {},
     "output_type": "display_data"
    }
   ],
   "source": [
    "widget_dict.update({\"num_simulator_parameters\": num_simulator_parameters.value})\n",
    "\n",
    "if num_simulator_parameters.value > 0:\n",
    "    sim_para_grid, _widget_dict = simulator_parameter_grid_generator(num_simulator_parameters.value)\n",
    "    display(sim_para_grid)\n",
    "    widget_dict.update(_widget_dict)         "
   ]
  },
  {
   "cell_type": "markdown",
   "metadata": {},
   "source": [
    "An example yaml config\n",
    "\n",
    "```yaml\n",
    "reward:\n",
    "  step_reward:\n",
    "    P_s:\n",
    "      expr: P_s\n",
    "      coef: 1.0\n",
    "  terminal_reward:\n",
    "    P_s:\n",
    "      expr: P_s\n",
    "      coef: 1.0\n",
    "  input_reward:\n",
    "    inp: 1.0\n",
    "```\n",
    "---- "
   ]
  },
  {
   "cell_type": "code",
   "execution_count": 9,
   "metadata": {},
   "outputs": [
    {
     "data": {
      "application/vnd.jupyter.widget-view+json": {
       "model_id": "02ebe188e4ed45688c2ed4035e565115",
       "version_major": 2,
       "version_minor": 0
      },
      "text/plain": [
       "GridspecLayout(children=(Button(description='Define State Reward', layout=Layout(grid_area='widget001', width=…"
      ]
     },
     "metadata": {},
     "output_type": "display_data"
    }
   ],
   "source": [
    "# define reward function\n",
    "\n",
    "sv_names = [widget_dict[f\"sv_{i}_def\"].value for i in range(widget_dict[\"num_state_variables\"].value)]\n",
    "in_names = [widget_dict[f\"cv_{i}_def\"].value for i in range(widget_dict[\"num_control_variables\"].value)]\n",
    "\n",
    "state_rewards_grid, _widget_dict = state_rewards_grid_generator(sv_names)\n",
    "if len(sv_names) > 0:\n",
    "    widget_dict.update(_widget_dict)\n",
    "    display(state_rewards_grid)\n",
    "            "
   ]
  },
  {
   "cell_type": "code",
   "execution_count": 10,
   "metadata": {},
   "outputs": [
    {
     "data": {
      "application/vnd.jupyter.widget-view+json": {
       "model_id": "29b3c97aed2e4f228483564b38f65ace",
       "version_major": 2,
       "version_minor": 0
      },
      "text/plain": [
       "GridspecLayout(children=(Button(description='Define Input Reward', layout=Layout(grid_area='widget001', width=…"
      ]
     },
     "metadata": {},
     "output_type": "display_data"
    }
   ],
   "source": [
    "\n",
    "input_rewards_grid, _widget_dict = input_rewards_grid_generator(in_names)\n",
    "if len(in_names) > 0:\n",
    "    widget_dict.update(_widget_dict)\n",
    "    display(input_rewards_grid)\n",
    "    \n",
    "    \n"
   ]
  },
  {
   "cell_type": "markdown",
   "metadata": {},
   "source": [
    "An example yaml config\n",
    "\n",
    "```yaml\n",
    "mpc:\n",
    "  setup:\n",
    "    n_horizon: 20\n",
    "    n_robust: 0\n",
    "    open_loop: 0\n",
    "    t_step: 1.0\n",
    "    state_discretization: collocation\n",
    "    collocation_type: radau\n",
    "    collocation_deg: 2\n",
    "    collocation_ni: 2\n",
    "    store_full_solution: True\n",
    "  bounds:\n",
    "    X_s:\n",
    "      lower: 0.0 # required\n",
    "      upper: 3.7 # required\n",
    "      soft: False # default, can be omitted\n",
    "    S_s:\n",
    "      lower: -0.01\n",
    "      upper: 2.0\n",
    "    P_s:\n",
    "      lower: 0.0\n",
    "      upper: 3.0\n",
    "    V_s:\n",
    "      lower: 0.0\n",
    "      upper: 150.0\n",
    "    inp:\n",
    "      lower: 0.0\n",
    "      upper: 0.2\n",
    "  uncertainities:\n",
    "    Y_x: [0.5, 0.4, 0.3]\n",
    "    S_in: [200.0, 220.0, 180.0]\n",
    "\n",
    "```\n",
    "---- "
   ]
  },
  {
   "cell_type": "markdown",
   "metadata": {},
   "source": [
    "An example yaml config\n",
    "\n",
    "```yaml\n",
    "estimator:\n",
    "  type: StateFeedback # StateFeedback, EKF(Extended Kalman Filter), ..\n",
    "  parameters: null\n",
    "```\n",
    "---- "
   ]
  }
 ],
 "metadata": {
  "kernelspec": {
   "display_name": "Python 3 (ipykernel)",
   "language": "python",
   "name": "python3"
  },
  "language_info": {
   "codemirror_mode": {
    "name": "ipython",
    "version": 3
   },
   "file_extension": ".py",
   "mimetype": "text/x-python",
   "name": "python",
   "nbconvert_exporter": "python",
   "pygments_lexer": "ipython3",
   "version": "3.9.13"
  }
 },
 "nbformat": 4,
 "nbformat_minor": 4
}
